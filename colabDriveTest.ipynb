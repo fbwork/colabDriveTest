{
  "nbformat": 4,
  "nbformat_minor": 0,
  "metadata": {
    "colab": {
      "provenance": [],
      "authorship_tag": "ABX9TyM0fIyNMOLRXKbE6nb4EMHo",
      "include_colab_link": true
    },
    "kernelspec": {
      "name": "python3",
      "display_name": "Python 3"
    },
    "language_info": {
      "name": "python"
    }
  },
  "cells": [
    {
      "cell_type": "markdown",
      "metadata": {
        "id": "view-in-github",
        "colab_type": "text"
      },
      "source": [
        "<a href=\"https://colab.research.google.com/github/fbwork/colabDriveTest/blob/main/colabDriveTest.ipynb\" target=\"_parent\"><img src=\"https://colab.research.google.com/assets/colab-badge.svg\" alt=\"Open In Colab\"/></a>"
      ]
    },
    {
      "cell_type": "code",
      "source": [
        "from google.colab import drive\n",
        "drive.mount('/content/drive')"
      ],
      "metadata": {
        "colab": {
          "base_uri": "https://localhost:8080/"
        },
        "id": "7qC1YNhxh8Dx",
        "outputId": "08b4d8ca-c8ed-41a6-f9f5-fb899a4b03b4"
      },
      "execution_count": 1,
      "outputs": [
        {
          "output_type": "stream",
          "name": "stdout",
          "text": [
            "Mounted at /content/drive\n"
          ]
        }
      ]
    },
    {
      "cell_type": "code",
      "execution_count": null,
      "metadata": {
        "id": "j83CMfOIgQLX"
      },
      "outputs": [],
      "source": [
        "!git clone https://github.com/fbwork/colabDriveTest.git\n",
        "\n",
        "!pip install -r colabDriveTest/requirements.txt"
      ]
    },
    {
      "cell_type": "code",
      "source": [
        "!python colabDriveTest/main.py"
      ],
      "metadata": {
        "id": "5WSfn-hmj8a0"
      },
      "execution_count": null,
      "outputs": []
    },
    {
      "cell_type": "code",
      "source": [
        "import os\n",
        "os.environ['KAGGLE_USERNAME'] = \"salam\"\n",
        "!export | grep KAGGLE"
      ],
      "metadata": {
        "colab": {
          "base_uri": "https://localhost:8080/"
        },
        "id": "YJjLD52DmSsQ",
        "outputId": "62b0f082-d823-45ba-e6b9-e39e2021ca7b"
      },
      "execution_count": 4,
      "outputs": [
        {
          "output_type": "stream",
          "name": "stdout",
          "text": [
            "declare -x KAGGLE_USERNAME=\"salam\"\n"
          ]
        }
      ]
    },
    {
      "cell_type": "code",
      "source": [],
      "metadata": {
        "id": "RUgLzVFGn1Ec"
      },
      "execution_count": null,
      "outputs": []
    }
  ]
}